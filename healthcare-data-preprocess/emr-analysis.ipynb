{
 "cells": [
  {
   "cell_type": "code",
   "execution_count": 5,
   "metadata": {},
   "outputs": [],
   "source": [
    "import sqlite3\n",
    "con = sqlite3.connect('myhospital.db')\n",
    "cursor = con.cursor()"
   ]
  },
  {
   "cell_type": "code",
   "execution_count": 6,
   "metadata": {},
   "outputs": [
    {
     "data": {
      "text/plain": [
       "<sqlite3.Cursor at 0x107411d40>"
      ]
     },
     "execution_count": 6,
     "metadata": {},
     "output_type": "execute_result"
    }
   ],
   "source": [
    "# Delete possible tables\n",
    "cursor.execute(\"DROP TABLE IF EXISTS PATIENTS;\")\n",
    "cursor.execute(\"DROP TABLE IF EXISTS ADMISSIONS;\")"
   ]
  },
  {
   "cell_type": "code",
   "execution_count": 7,
   "metadata": {},
   "outputs": [
    {
     "data": {
      "text/plain": [
       "<sqlite3.Cursor at 0x107411d40>"
      ]
     },
     "execution_count": 7,
     "metadata": {},
     "output_type": "execute_result"
    }
   ],
   "source": [
    "# Create patient table\n",
    "sql_command = \"\"\"\n",
    "CREATE TABLE PATIENTS (\n",
    "PatientID INT(8) NOT NULL,\n",
    "PatientName VARCHAR(20) NOT NULL,\n",
    "Gender VARCHAR(5) NOT NULL,\n",
    "Birthdate DATE NOT NULL,\n",
    "Phone VARCHAR(20) NOT NULL,\n",
    "Address VARCHAR(50),\n",
    "PRIMARY KEY(PatientID) );\"\"\"\n",
    "cursor.execute (sql_command)"
   ]
  },
  {
   "cell_type": "code",
   "execution_count": 8,
   "metadata": {},
   "outputs": [],
   "source": [
    "#  Insert patients\n",
    "sql_command = \"\"\"INSERT INTO PATIENTS (PatientID, PatientName, Gender,\n",
    "Birthdate, Phone, Address)\n",
    "VALUES (12345678,'이현우', 'M', '2000-01-23', '010-2222-1234', '서울'); \"\"\"\n",
    "cursor.execute(sql_command)\n",
    "\n",
    "sql_command = \"\"\"INSERT INTO PATIENTS (PatientID, PatientName, Gender,\n",
    "Birthdate, Phone, Address)\n",
    "VALUES (12349876,'강니사', 'F', '1990-10-17', '010-3333-9876', '부산'); \"\"\"\n",
    "cursor.execute(sql_command)\n",
    "con.commit()"
   ]
  },
  {
   "cell_type": "code",
   "execution_count": 9,
   "metadata": {},
   "outputs": [
    {
     "data": {
      "text/plain": [
       "<sqlite3.Cursor at 0x107411d40>"
      ]
     },
     "execution_count": 9,
     "metadata": {},
     "output_type": "execute_result"
    }
   ],
   "source": [
    "# Create admission table \n",
    "sql_command = \"\"\"\n",
    "CREATE TABLE ADMISSIONS (\n",
    "PatientID  INT(8) NOT NULL,\n",
    "AdmID INT(8) NOT NULL,\n",
    "AdmDate  DATE,\n",
    "PrimaryDiagnosis VARCHAR(50),\n",
    "PRIMARY KEY(AdmID),\n",
    "FOREIGN KEY (PatientID) REFERENCES PATIENTS (PatientID));\"\"\"\n",
    "cursor.execute (sql_command)"
   ]
  },
  {
   "cell_type": "code",
   "execution_count": 10,
   "metadata": {},
   "outputs": [],
   "source": [
    "# Insert admissions\n",
    "sql_command = \"\"\"INSERT INTO ADMISSIONS (PatientID, AdmID, AdmDate,\n",
    "PrimaryDiagnosis )\n",
    "VALUES (12345678, 23456789, '2018-11-01', '급성폐렴');\"\"\"\n",
    "cursor.execute(sql_command)\n",
    "\n",
    "sql_command = \"\"\"INSERT INTO ADMISSIONS (PatientID, AdmID, AdmDate,\n",
    "PrimaryDiagnosis )\n",
    "VALUES (12349876, 23478913, '2019-12-28', '독감');\"\"\"\n",
    "cursor.execute(sql_command)\n",
    "\n",
    "sql_command = \"\"\"INSERT INTO ADMISSIONS (PatientID, AdmID, AdmDate,\n",
    "PrimaryDiagnosis )\n",
    "VALUES (12349876, 20180201, '2024-12-23', '급성폐렴');\"\"\"\n",
    "cursor.execute(sql_command)\n",
    "con.commit()"
   ]
  },
  {
   "cell_type": "code",
   "execution_count": 12,
   "metadata": {},
   "outputs": [
    {
     "name": "stdout",
     "output_type": "stream",
     "text": [
      "(12345678, '이현우', 'M', '2000-01-23', '010-2222-1234', '서울')\n",
      "(12349876, '강니사', 'F', '1990-10-17', '010-3333-9876', '부산')\n"
     ]
    }
   ],
   "source": [
    "# Search all patients\n",
    "result = cursor.execute(\"SELECT * FROM PATIENTS;\")\n",
    "for r in result:\n",
    "    print (r)"
   ]
  },
  {
   "cell_type": "code",
   "execution_count": 13,
   "metadata": {},
   "outputs": [
    {
     "name": "stdout",
     "output_type": "stream",
     "text": [
      "('급성폐렴', 2)\n",
      "('독감', 1)\n"
     ]
    }
   ],
   "source": [
    "# Search primaryDiagnosis and the count of primaryDiagnosis from admission table that grouped by primaryDiagnosis\n",
    "result = cursor.execute(\"\"\"SELECT PrimaryDiagnosis, count()\n",
    "\t  FROM ADMISSIONS\n",
    "      GROUP BY PrimaryDiagnosis;\"\"\")\n",
    "\n",
    "for r in result:\n",
    "    print (r)"
   ]
  },
  {
   "cell_type": "code",
   "execution_count": 14,
   "metadata": {},
   "outputs": [
    {
     "name": "stdout",
     "output_type": "stream",
     "text": [
      "('이현우', 'M', '010-2222-1234', '2018-11-01', '급성폐렴')\n",
      "('강니사', 'F', '010-3333-9876', '2019-12-28', '독감')\n",
      "('강니사', 'F', '010-3333-9876', '2024-12-23', '급성폐렴')\n"
     ]
    }
   ],
   "source": [
    "# Search name, gender, phone, admdate, primaryDiagnosis from patient and admission tables \n",
    "# where patient's id and admission's patientId are the same.\n",
    "result = cursor.execute(\"\"\"SELECT PATIENTS.PatientName, PATIENTS.Gender, PATIENTS.Phone,\n",
    "      ADMISSIONS.AdmDate, ADMISSIONS.PrimaryDiagnosis\n",
    "\t  FROM PATIENTS, ADMISSIONS\n",
    "      WHERE PATIENTS.PatientID =  ADMISSIONS.PatientID;\"\"\")\n",
    "\n",
    "for r in result:\n",
    "    print (r)"
   ]
  },
  {
   "cell_type": "code",
   "execution_count": 15,
   "metadata": {},
   "outputs": [],
   "source": [
    "cursor.close()\n",
    "con.close()"
   ]
  },
  {
   "cell_type": "code",
   "execution_count": null,
   "metadata": {},
   "outputs": [],
   "source": []
  }
 ],
 "metadata": {
  "kernelspec": {
   "display_name": ".venv",
   "language": "python",
   "name": "python3"
  },
  "language_info": {
   "codemirror_mode": {
    "name": "ipython",
    "version": 3
   },
   "file_extension": ".py",
   "mimetype": "text/x-python",
   "name": "python",
   "nbconvert_exporter": "python",
   "pygments_lexer": "ipython3",
   "version": "3.12.4"
  }
 },
 "nbformat": 4,
 "nbformat_minor": 2
}
